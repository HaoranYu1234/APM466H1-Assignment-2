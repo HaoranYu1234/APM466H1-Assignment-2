{
 "cells": [
  {
   "cell_type": "markdown",
   "id": "9ba037e1",
   "metadata": {},
   "source": [
    "# Loading packages"
   ]
  },
  {
   "cell_type": "code",
   "execution_count": 1,
   "id": "dc9957b3",
   "metadata": {},
   "outputs": [
    {
     "name": "stdout",
     "output_type": "stream",
     "text": [
      "Requirement already satisfied: yfinance in c:\\users\\18165\\appdata\\local\\programs\\python\\python312\\lib\\site-packages (0.2.56)\n",
      "Requirement already satisfied: pandas>=1.3.0 in c:\\users\\18165\\appdata\\local\\programs\\python\\python312\\lib\\site-packages (from yfinance) (2.2.2)\n",
      "Requirement already satisfied: numpy>=1.16.5 in c:\\users\\18165\\appdata\\local\\programs\\python\\python312\\lib\\site-packages (from yfinance) (1.26.4)\n",
      "Requirement already satisfied: requests>=2.31 in c:\\users\\18165\\appdata\\local\\programs\\python\\python312\\lib\\site-packages (from yfinance) (2.32.3)\n",
      "Requirement already satisfied: multitasking>=0.0.7 in c:\\users\\18165\\appdata\\local\\programs\\python\\python312\\lib\\site-packages (from yfinance) (0.0.11)\n",
      "Requirement already satisfied: platformdirs>=2.0.0 in c:\\users\\18165\\appdata\\roaming\\python\\python312\\site-packages (from yfinance) (4.2.2)\n",
      "Requirement already satisfied: pytz>=2022.5 in c:\\users\\18165\\appdata\\local\\programs\\python\\python312\\lib\\site-packages (from yfinance) (2024.1)\n",
      "Requirement already satisfied: frozendict>=2.3.4 in c:\\users\\18165\\appdata\\local\\programs\\python\\python312\\lib\\site-packages (from yfinance) (2.4.6)\n",
      "Requirement already satisfied: peewee>=3.16.2 in c:\\users\\18165\\appdata\\local\\programs\\python\\python312\\lib\\site-packages (from yfinance) (3.17.9)\n",
      "Requirement already satisfied: beautifulsoup4>=4.11.1 in c:\\users\\18165\\appdata\\local\\programs\\python\\python312\\lib\\site-packages (from yfinance) (4.13.4)\n",
      "Requirement already satisfied: soupsieve>1.2 in c:\\users\\18165\\appdata\\local\\programs\\python\\python312\\lib\\site-packages (from beautifulsoup4>=4.11.1->yfinance) (2.7)\n",
      "Requirement already satisfied: typing-extensions>=4.0.0 in c:\\tools\\manim\\lib\\site-packages (from beautifulsoup4>=4.11.1->yfinance) (4.12.2)\n",
      "Requirement already satisfied: python-dateutil>=2.8.2 in c:\\users\\18165\\appdata\\local\\programs\\python\\python312\\lib\\site-packages (from pandas>=1.3.0->yfinance) (2.8.2)\n",
      "Requirement already satisfied: tzdata>=2022.7 in c:\\users\\18165\\appdata\\local\\programs\\python\\python312\\lib\\site-packages (from pandas>=1.3.0->yfinance) (2024.1)\n",
      "Requirement already satisfied: charset-normalizer<4,>=2 in c:\\users\\18165\\appdata\\local\\programs\\python\\python312\\lib\\site-packages (from requests>=2.31->yfinance) (3.4.0)\n",
      "Requirement already satisfied: idna<4,>=2.5 in c:\\users\\18165\\appdata\\local\\programs\\python\\python312\\lib\\site-packages (from requests>=2.31->yfinance) (3.10)\n",
      "Requirement already satisfied: urllib3<3,>=1.21.1 in c:\\users\\18165\\appdata\\local\\programs\\python\\python312\\lib\\site-packages (from requests>=2.31->yfinance) (2.2.3)\n",
      "Requirement already satisfied: certifi>=2017.4.17 in c:\\users\\18165\\appdata\\local\\programs\\python\\python312\\lib\\site-packages (from requests>=2.31->yfinance) (2024.8.30)\n",
      "Requirement already satisfied: six>=1.5 in c:\\users\\18165\\appdata\\local\\programs\\python\\python312\\lib\\site-packages (from python-dateutil>=2.8.2->pandas>=1.3.0->yfinance) (1.16.0)\n",
      "Note: you may need to restart the kernel to use updated packages.\n"
     ]
    },
    {
     "name": "stderr",
     "output_type": "stream",
     "text": [
      "\n",
      "[notice] A new release of pip is available: 24.3.1 -> 25.1\n",
      "[notice] To update, run: python.exe -m pip install --upgrade pip\n"
     ]
    }
   ],
   "source": [
    "pip install yfinance"
   ]
  },
  {
   "cell_type": "code",
   "execution_count": 2,
   "id": "e3ff5685",
   "metadata": {},
   "outputs": [
    {
     "name": "stdout",
     "output_type": "stream",
     "text": [
      "Requirement already satisfied: tabulate in c:\\users\\18165\\appdata\\local\\programs\\python\\python312\\lib\\site-packages (0.9.0)Note: you may need to restart the kernel to use updated packages.\n"
     ]
    },
    {
     "name": "stderr",
     "output_type": "stream",
     "text": [
      "\n",
      "[notice] A new release of pip is available: 24.3.1 -> 25.1\n",
      "[notice] To update, run: python.exe -m pip install --upgrade pip\n"
     ]
    },
    {
     "name": "stdout",
     "output_type": "stream",
     "text": [
      "\n"
     ]
    }
   ],
   "source": [
    "pip install tabulate"
   ]
  },
  {
   "cell_type": "code",
   "execution_count": 3,
   "id": "c24756ac",
   "metadata": {},
   "outputs": [],
   "source": [
    "import numpy as np\n",
    "from scipy.stats import norm\n",
    "import matplotlib.pyplot as plt\n",
    "import pandas as pd\n",
    "import yfinance as yf"
   ]
  },
  {
   "cell_type": "markdown",
   "id": "e7b09be5",
   "metadata": {},
   "source": [
    "# Calculating stock volatility"
   ]
  },
  {
   "cell_type": "code",
   "execution_count": 4,
   "id": "9cb7c1ed",
   "metadata": {},
   "outputs": [],
   "source": [
    "# Download the data (Toronto)\n",
    "\n",
    "ticker = yf.Ticker('ENB.TO')\n",
    "\n",
    "stock_data = ticker.history(interval = '1d', start='2010-01-01', end='2025-01-01')\n",
    "\n",
    "close = stock_data['Close']"
   ]
  },
  {
   "cell_type": "code",
   "execution_count": 5,
   "id": "c7c9abdc",
   "metadata": {},
   "outputs": [],
   "source": [
    "# Price changes\n",
    "\n",
    "returns = close.pct_change()"
   ]
  },
  {
   "cell_type": "code",
   "execution_count": 6,
   "id": "66b815bd",
   "metadata": {},
   "outputs": [],
   "source": [
    "# Annualized volatility\n",
    "vols = {}\n",
    "trading_days = 251\n",
    "\n",
    "for year in range(1, 16):\n",
    "    start_date = f'2010-01-01'\n",
    "    end_date   = f'{2010 + year}-01-01'\n",
    "    \n",
    "    yearly_returns = returns.loc[start_date:end_date]\n",
    "    annual_vol_pct = yearly_returns.std() * np.sqrt(year * trading_days)\n",
    "    vols[year] = annual_vol_pct\n",
    "\n",
    "# 4. Build a DataFrame of the results\n",
    "s_vol_df = pd.DataFrame.from_dict(\n",
    "    vols, \n",
    "    orient='index', \n",
    "    columns=['Annualized stock volatility']\n",
    ")\n",
    "s_vol_df.index.name = 'Year'\n",
    "s_vol_df.reset_index(inplace=True)"
   ]
  },
  {
   "cell_type": "code",
   "execution_count": 7,
   "id": "b9f2c455",
   "metadata": {},
   "outputs": [
    {
     "name": "stdout",
     "output_type": "stream",
     "text": [
      "|   Year |   Annualized stock volatility |\n",
      "|-------:|------------------------------:|\n",
      "|      1 |                      0.138719 |\n",
      "|      2 |                      0.224799 |\n",
      "|      3 |                      0.269207 |\n",
      "|      4 |                      0.30418  |\n",
      "|      5 |                      0.358387 |\n",
      "|      6 |                      0.450046 |\n",
      "|      7 |                      0.52737  |\n",
      "|      8 |                      0.55629  |\n",
      "|      9 |                      0.610433 |\n",
      "|     10 |                      0.633025 |\n",
      "|     11 |                      0.787199 |\n",
      "|     12 |                      0.800775 |\n",
      "|     13 |                      0.820834 |\n",
      "|     14 |                      0.836688 |\n",
      "|     15 |                      0.845211 |\n"
     ]
    }
   ],
   "source": [
    "print(s_vol_df.to_markdown(index=False))"
   ]
  },
  {
   "cell_type": "markdown",
   "id": "e5377164",
   "metadata": {},
   "source": [
    "# Risk free rate for each T"
   ]
  },
  {
   "cell_type": "code",
   "execution_count": 8,
   "id": "da909d19",
   "metadata": {},
   "outputs": [],
   "source": [
    "# Risk free rate for each T = government bond (From Market insider as April 25)\n",
    "# Made assumption about the maturity of the bond, picked the ones that are the closest to the \n",
    "# Selected CA government bond:\n",
    "# Year 1 (2025 Dec 31): CA135087Q806\n",
    "# Year 2 (2026 Dec 31): CA135087S547\n",
    "# Year 3 (2027 Dec 31): CA135087P576\n",
    "# Year 4 (2028 Dec 31): CA135087Q988\n",
    "# Year 5 (2029 Dec 31): CA135087N670\n",
    "# Year 6 (2030 Dec 31): CA135087L443\n",
    "# Year 7 (2031 Dec 31): CA135087N266\n",
    "# Year 8 (2032 Dec 31): CA135087P329\n",
    "# Year 9 (2033 Dec 31): CA135087Q723\n",
    "# Year 10 (2034 Dec 31): CA135087S216\n",
    "# Year 11 (2035 Dec 31): CA135087S620\n",
    "# Year 12 (2036 Dec 31): CA135087S620\n",
    "# Year 13 (2037 Dec 31): CA135087XW98\n",
    "# Year 14 (2038 Dec 31): CA135087XW98\n",
    "# Year 15 (2039 Dec 31): CA135087XW98\n",
    "\n",
    "r_data = {\n",
    "    'Year': list(range(1, 16)),\n",
    "    'Risk-free rate': [2.74 / 100, 2.62 / 100, 2.67 / 100, 2.76 / 100, 2.83 / 100, 2.93 / 100, 3.01 / 100, 3.08 / 100, 3.15 / 100, 3.20 / 100, 3.22 / 100, 3.22 / 100, 3.30 / 100, 3.30 / 100, 3.30 / 100]\n",
    "}\n",
    "r_df = pd.DataFrame(r_data)"
   ]
  },
  {
   "cell_type": "code",
   "execution_count": 9,
   "id": "e39a1ab2",
   "metadata": {},
   "outputs": [
    {
     "name": "stdout",
     "output_type": "stream",
     "text": [
      "|   Year |   Risk-free rate |\n",
      "|-------:|-----------------:|\n",
      "|      1 |           0.0274 |\n",
      "|      2 |           0.0262 |\n",
      "|      3 |           0.0267 |\n",
      "|      4 |           0.0276 |\n",
      "|      5 |           0.0283 |\n",
      "|      6 |           0.0293 |\n",
      "|      7 |           0.0301 |\n",
      "|      8 |           0.0308 |\n",
      "|      9 |           0.0315 |\n",
      "|     10 |           0.032  |\n",
      "|     11 |           0.0322 |\n",
      "|     12 |           0.0322 |\n",
      "|     13 |           0.033  |\n",
      "|     14 |           0.033  |\n",
      "|     15 |           0.033  |\n"
     ]
    }
   ],
   "source": [
    "print(r_df.to_markdown(index=False))"
   ]
  },
  {
   "cell_type": "markdown",
   "id": "6e1b673d",
   "metadata": {},
   "source": [
    "# Estimating asset volatility using iteration for each T"
   ]
  },
  {
   "cell_type": "code",
   "execution_count": 10,
   "id": "fd6ea3d3",
   "metadata": {},
   "outputs": [],
   "source": [
    "# Parameters for each T\n",
    "\n",
    "df_vol = pd.merge(r_df, s_vol_df, on='Year')\n",
    "\n",
    "# Parameters (E and D based on 2024 Dec 31)\n",
    "\n",
    "E = 132.88e9 # Market cap (CAD)\n",
    "D = 103.01e9 # Total debt (CAD)\n",
    "A = E + D # Total asset\n",
    "tol = 1e-5 # Convergence tolerance\n",
    "max_iter = 100 # Max iterations"
   ]
  },
  {
   "cell_type": "code",
   "execution_count": 11,
   "id": "5185cd91",
   "metadata": {},
   "outputs": [],
   "source": [
    "# Estimating the asset volatility function\n",
    "\n",
    "def estimate_asset_volatility(T, r_pct, sigma_S):\n",
    "    r = r_pct\n",
    "    sigma_A = sigma_S\n",
    "    for i in range(max_iter):\n",
    "        d1 = (np.log(A / D) + (r + 0.5 * sigma_A**2) * T) / (sigma_A * np.sqrt(T))\n",
    "        d2 = d1 - sigma_A * np.sqrt(T)\n",
    "        S_theo = A * norm.cdf(d1) - D * np.exp(-r * T) * norm.cdf(d2)\n",
    "        delta = norm.cdf(d1)\n",
    "        sigma_A_new = (sigma_S * S_theo) / (A * delta)\n",
    "        if abs(sigma_A_new - sigma_A) < tol:\n",
    "            sigma_A = sigma_A_new\n",
    "            break\n",
    "        sigma_A = sigma_A_new\n",
    "        i += 1\n",
    "    return sigma_A"
   ]
  },
  {
   "cell_type": "code",
   "execution_count": 12,
   "id": "0dd6d947",
   "metadata": {},
   "outputs": [],
   "source": [
    "# Finding the asset volatility\n",
    "\n",
    "df_vol['Estimated asset volatility'] = df_vol.apply(lambda row: estimate_asset_volatility(row['Year'], row['Risk-free rate'], row['Annualized stock volatility']), axis=1)"
   ]
  },
  {
   "cell_type": "code",
   "execution_count": 13,
   "id": "28fcd17c",
   "metadata": {},
   "outputs": [
    {
     "name": "stdout",
     "output_type": "stream",
     "text": [
      "|   Year |   Risk-free rate |   Annualized stock volatility |   Estimated asset volatility |\n",
      "|-------:|-----------------:|------------------------------:|-----------------------------:|\n",
      "|      1 |           0.0274 |                      0.138719 |                    0.0797796 |\n",
      "|      2 |           0.0262 |                      0.224799 |                    0.131644  |\n",
      "|      3 |           0.0267 |                      0.269207 |                    0.160758  |\n",
      "|      4 |           0.0276 |                      0.30418  |                    0.185988  |\n",
      "|      5 |           0.0283 |                      0.358387 |                    0.227176  |\n",
      "|      6 |           0.0293 |                      0.450046 |                    0.306713  |\n",
      "|      7 |           0.0301 |                      0.52737  |                    0.390266  |\n",
      "|      8 |           0.0308 |                      0.55629  |                    0.433134  |\n",
      "|      9 |           0.0315 |                      0.610433 |                    0.504672  |\n",
      "|     10 |           0.032  |                      0.633025 |                    0.541675  |\n",
      "|     11 |           0.0322 |                      0.787199 |                    0.727329  |\n",
      "|     12 |           0.0322 |                      0.800775 |                    0.750762  |\n",
      "|     13 |           0.033  |                      0.820834 |                    0.780167  |\n",
      "|     14 |           0.033  |                      0.836688 |                    0.803205  |\n",
      "|     15 |           0.033  |                      0.845211 |                    0.817077  |\n"
     ]
    }
   ],
   "source": [
    "print(df_vol.to_markdown(index=False))"
   ]
  },
  {
   "cell_type": "markdown",
   "id": "cafe2724",
   "metadata": {},
   "source": [
    "# Modelling and plotting"
   ]
  },
  {
   "cell_type": "code",
   "execution_count": 14,
   "id": "83b99a0f",
   "metadata": {},
   "outputs": [
    {
     "data": {
      "image/png": "[encoded data removed]",
      "text/plain": [
       "<Figure size 640x480 with 1 Axes>"
      ]
     },
     "metadata": {},
     "output_type": "display_data"
    }
   ],
   "source": [
    "T_vals = df_vol['Year'].values\n",
    "r_vals = df_vol['Risk-free rate'].values\n",
    "sigma_A = df_vol['Estimated asset volatility'].values\n",
    "\n",
    "d1 = (np.log(A / D) + (r_vals + 0.5 * sigma_A**2) * T_vals) / (sigma_A * np.sqrt(T_vals))\n",
    "d2 = d1 - sigma_A * np.sqrt(T_vals)\n",
    "PD = norm.cdf(-d2) * 100\n",
    "\n",
    "pd_df = pd.DataFrame({\n",
    "    'Year': T_vals,\n",
    "    'Probability of default in %': PD\n",
    "})\n",
    "\n",
    "plt.figure()\n",
    "plt.plot(pd_df['Year'], pd_df['Probability of default in %'], marker='o')\n",
    "plt.title('KMV/Merton PD curve')\n",
    "plt.xlabel('Time in years')\n",
    "plt.ylabel('Probability of default in %')\n",
    "plt.grid(True)\n",
    "plt.tight_layout()\n",
    "plt.show()"
   ]
  },
  {
   "cell_type": "code",
   "execution_count": 15,
   "id": "d0c9a817",
   "metadata": {},
   "outputs": [
    {
     "name": "stdout",
     "output_type": "stream",
     "text": [
      "|   Year |   Probability of default in % |\n",
      "|-------:|------------------------------:|\n",
      "|      1 |                   5.73511e-25 |\n",
      "|      2 |                   0.000175258 |\n",
      "|      3 |                   0.0891765   |\n",
      "|      4 |                   0.968819    |\n",
      "|      5 |                   4.89011     |\n",
      "|      6 |                  16.8232      |\n",
      "|      7 |                  31.1994      |\n",
      "|      8 |                  39.5545      |\n",
      "|      9 |                  50.898       |\n",
      "|     10 |                  57.3758      |\n",
      "|     11 |                  76.2955      |\n",
      "|     12 |                  79.7635      |\n",
      "|     13 |                  83.1324      |\n",
      "|     14 |                  85.8418      |\n",
      "|     15 |                  87.7792      |\n"
     ]
    }
   ],
   "source": [
    "print(pd_df.to_markdown(index=False))"
   ]
  }
 ],
 "metadata": {
  "kernelspec": {
   "display_name": "Python 3",
   "language": "python",
   "name": "python3"
  },
  "language_info": {
   "codemirror_mode": {
    "name": "ipython",
    "version": 3
   },
   "file_extension": ".py",
   "mimetype": "text/x-python",
   "name": "python",
   "nbconvert_exporter": "python",
   "pygments_lexer": "ipython3",
   "version": "3.12.6"
  }
 },
 "nbformat": 4,
 "nbformat_minor": 5
}
